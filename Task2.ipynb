{
 "cells": [
  {
   "cell_type": "code",
   "execution_count": 147,
   "id": "5bc77225-b09b-49e2-a07b-c18873b3c974",
   "metadata": {},
   "outputs": [],
   "source": [
    "import numpy as np\n",
    "import scipy.linalg as linalg\n",
    "from scipy.sparse.linalg import cg, eigs"
   ]
  },
  {
   "cell_type": "code",
   "execution_count": 117,
   "id": "2f6b75c8-1a98-4229-b48e-b5f217f1907d",
   "metadata": {},
   "outputs": [],
   "source": [
    "a = np.array([[1,  2,  3,  4,  5],\n",
    "              [6,  7,  8,  9, 10],\n",
    "              [11,12, 13, 14,15],\n",
    "              [16,17, 18, 19,20],\n",
    "              [21,22, 23, 24,25]])\n",
    "\n",
    "b = np.array([[2,  -1,  1,  3,  5],\n",
    "              [4,   6, -2,  1, -4],\n",
    "              [2,   7,  8, -3,  2],\n",
    "              [9,  -5,  3, 10,  6],\n",
    "              [1,   2, -6,  4,  8]])\n",
    "\n",
    "c = np.array([[3,   0,  1, -2,  4],\n",
    "              [5,   7, -1,  3,  0],\n",
    "              [2,  -3,  6,  1, -5],\n",
    "              [8,   4, -2,  9,  3],\n",
    "              [6,  -7,  5,  0, 11]])\n",
    "\n",
    "d = np.array([[6,   2, -3,  1,  7],\n",
    "              [0,   5,  4, -2, -6],\n",
    "              [8,  -1,  3,  9,  2],\n",
    "              [2,  10,  0, -5,  4],\n",
    "              [7,  -4,  6,  1, 12]])\n",
    "\n",
    "v = np.array([0.1, 0.2, 0.4, 0.6, 0.8])\n",
    "\n",
    "x = np.array([[ 4,  -2,   7,   0,   3],\n",
    "              [ 1,   6,  -5,   8,   2],\n",
    "              [ 9,   0,   4,  -1,   5],\n",
    "              [-3,   2,   6,   7,  -4],\n",
    "              [ 8,  -6,   1,   3,   9]])\n",
    "m = 3\n",
    "n = 2"
   ]
  },
  {
   "cell_type": "code",
   "execution_count": 74,
   "id": "4708ec19-09b1-45bc-bc38-01f55968c1d9",
   "metadata": {},
   "outputs": [
    {
     "data": {
      "text/plain": [
       "2"
      ]
     },
     "execution_count": 74,
     "metadata": {},
     "output_type": "execute_result"
    }
   ],
   "source": [
    "np.ndim(a)"
   ]
  },
  {
   "cell_type": "code",
   "execution_count": 40,
   "id": "e0460781-60a5-4184-8aee-09381b13302c",
   "metadata": {},
   "outputs": [
    {
     "data": {
      "text/plain": [
       "25"
      ]
     },
     "execution_count": 40,
     "metadata": {},
     "output_type": "execute_result"
    }
   ],
   "source": [
    "np.size(a)"
   ]
  },
  {
   "cell_type": "code",
   "execution_count": 41,
   "id": "7ff610e5-cddc-4699-a791-5cc9326fbe76",
   "metadata": {},
   "outputs": [
    {
     "data": {
      "text/plain": [
       "(5, 5)"
      ]
     },
     "execution_count": 41,
     "metadata": {},
     "output_type": "execute_result"
    }
   ],
   "source": [
    "np.shape(a)"
   ]
  },
  {
   "cell_type": "code",
   "execution_count": 42,
   "id": "30400267-eee8-413b-9596-025fa27793ee",
   "metadata": {},
   "outputs": [
    {
     "data": {
      "text/plain": [
       "5"
      ]
     },
     "execution_count": 42,
     "metadata": {},
     "output_type": "execute_result"
    }
   ],
   "source": [
    "a.shape[n-1]"
   ]
  },
  {
   "cell_type": "code",
   "execution_count": 43,
   "id": "83807be6-5b92-45a4-9879-83d4b95aa7ba",
   "metadata": {},
   "outputs": [
    {
     "data": {
      "text/plain": [
       "array([[1., 2., 3.],\n",
       "       [4., 5., 6.]])"
      ]
     },
     "execution_count": 43,
     "metadata": {},
     "output_type": "execute_result"
    }
   ],
   "source": [
    "np.array([[1., 2., 3.], [4., 5., 6.]])"
   ]
  },
  {
   "cell_type": "code",
   "execution_count": 44,
   "id": "47aa9c83-b859-4773-ae23-8907bd5414d8",
   "metadata": {},
   "outputs": [
    {
     "data": {
      "text/plain": [
       "array([[ 1,  2,  3,  4,  5,  2, -1,  0,  3,  5],\n",
       "       [ 6,  7,  8,  9, 10,  4,  6, -2,  1, -4],\n",
       "       [11, 12, 13, 14, 15,  0,  7,  8, -3,  2],\n",
       "       [16, 17, 18, 19, 20,  9, -5,  3, 10,  6],\n",
       "       [21, 22, 23, 24, 25,  1,  2, -6,  4,  8],\n",
       "       [ 3,  0,  1, -2,  4,  6,  2, -3,  1,  7],\n",
       "       [ 5,  7, -1,  3,  0,  0,  5,  4, -2, -6],\n",
       "       [ 2, -3,  6,  1, -5,  8, -1,  3,  9,  2],\n",
       "       [ 8,  4, -2,  9,  3,  2, 10,  0, -5,  4],\n",
       "       [ 6, -7,  5,  0, 11,  7, -4,  6,  1, 12]])"
      ]
     },
     "execution_count": 44,
     "metadata": {},
     "output_type": "execute_result"
    }
   ],
   "source": [
    "np.block([[a, b], [c, d]])"
   ]
  },
  {
   "cell_type": "code",
   "execution_count": 45,
   "id": "c545fcb5-1f2e-4726-8226-0a8160cb3c0f",
   "metadata": {},
   "outputs": [
    {
     "data": {
      "text/plain": [
       "array([21, 22, 23, 24, 25])"
      ]
     },
     "execution_count": 45,
     "metadata": {},
     "output_type": "execute_result"
    }
   ],
   "source": [
    "a[-1]"
   ]
  },
  {
   "cell_type": "code",
   "execution_count": 46,
   "id": "a1b2b82a-9320-4dd4-95ee-e773d1ab60a7",
   "metadata": {},
   "outputs": [
    {
     "data": {
      "text/plain": [
       "np.int64(10)"
      ]
     },
     "execution_count": 46,
     "metadata": {},
     "output_type": "execute_result"
    }
   ],
   "source": [
    "a[1, 4]"
   ]
  },
  {
   "cell_type": "code",
   "execution_count": 47,
   "id": "b3994853-90b5-4b2f-bb2c-df1469e440ec",
   "metadata": {},
   "outputs": [
    {
     "data": {
      "text/plain": [
       "array([ 6,  7,  8,  9, 10])"
      ]
     },
     "execution_count": 47,
     "metadata": {},
     "output_type": "execute_result"
    }
   ],
   "source": [
    "a[1]"
   ]
  },
  {
   "cell_type": "code",
   "execution_count": 48,
   "id": "c9d818cc-abd7-460f-9375-332b93d7fb53",
   "metadata": {},
   "outputs": [
    {
     "data": {
      "text/plain": [
       "array([[ 1,  2,  3,  4,  5],\n",
       "       [ 6,  7,  8,  9, 10],\n",
       "       [11, 12, 13, 14, 15],\n",
       "       [16, 17, 18, 19, 20],\n",
       "       [21, 22, 23, 24, 25]])"
      ]
     },
     "execution_count": 48,
     "metadata": {},
     "output_type": "execute_result"
    }
   ],
   "source": [
    "a[0:5]"
   ]
  },
  {
   "cell_type": "code",
   "execution_count": 49,
   "id": "a0b35d86-5843-45af-b5d0-d3afc057423a",
   "metadata": {},
   "outputs": [
    {
     "data": {
      "text/plain": [
       "array([[ 1,  2,  3,  4,  5],\n",
       "       [ 6,  7,  8,  9, 10],\n",
       "       [11, 12, 13, 14, 15],\n",
       "       [16, 17, 18, 19, 20],\n",
       "       [21, 22, 23, 24, 25]])"
      ]
     },
     "execution_count": 49,
     "metadata": {},
     "output_type": "execute_result"
    }
   ],
   "source": [
    "a[-5:]"
   ]
  },
  {
   "cell_type": "code",
   "execution_count": 54,
   "id": "c59294d6-f480-4f7b-88a2-825e8fe6e3da",
   "metadata": {},
   "outputs": [
    {
     "data": {
      "text/plain": [
       "array([[ 5],\n",
       "       [10],\n",
       "       [15]])"
      ]
     },
     "execution_count": 54,
     "metadata": {},
     "output_type": "execute_result"
    }
   ],
   "source": [
    "a[0:3, 4:9]"
   ]
  },
  {
   "cell_type": "code",
   "execution_count": 55,
   "id": "de30e30a-6d05-4f95-9470-31b7c16e936b",
   "metadata": {},
   "outputs": [
    {
     "data": {
      "text/plain": [
       "array([[ 6,  8],\n",
       "       [16, 18],\n",
       "       [21, 23]])"
      ]
     },
     "execution_count": 55,
     "metadata": {},
     "output_type": "execute_result"
    }
   ],
   "source": [
    "a[np.ix_([1, 3, 4], [0, 2])]"
   ]
  },
  {
   "cell_type": "code",
   "execution_count": 56,
   "id": "a1203f5f-3e07-4fde-8fb5-11a4debfde53",
   "metadata": {},
   "outputs": [
    {
     "data": {
      "text/plain": [
       "array([[11, 12, 13, 14, 15],\n",
       "       [21, 22, 23, 24, 25]])"
      ]
     },
     "execution_count": 56,
     "metadata": {},
     "output_type": "execute_result"
    }
   ],
   "source": [
    "a[2:21:2,:]"
   ]
  },
  {
   "cell_type": "code",
   "execution_count": 57,
   "id": "341cd8a9-54f9-4ee2-8938-737449db1c7e",
   "metadata": {},
   "outputs": [
    {
     "data": {
      "text/plain": [
       "array([[ 1,  2,  3,  4,  5],\n",
       "       [11, 12, 13, 14, 15],\n",
       "       [21, 22, 23, 24, 25]])"
      ]
     },
     "execution_count": 57,
     "metadata": {},
     "output_type": "execute_result"
    }
   ],
   "source": [
    "a[::2, :]"
   ]
  },
  {
   "cell_type": "code",
   "execution_count": 58,
   "id": "46dff519-f354-410f-96a1-ae89c9d0e6b7",
   "metadata": {},
   "outputs": [
    {
     "data": {
      "text/plain": [
       "array([[21, 22, 23, 24, 25],\n",
       "       [16, 17, 18, 19, 20],\n",
       "       [11, 12, 13, 14, 15],\n",
       "       [ 6,  7,  8,  9, 10],\n",
       "       [ 1,  2,  3,  4,  5]])"
      ]
     },
     "execution_count": 58,
     "metadata": {},
     "output_type": "execute_result"
    }
   ],
   "source": [
    "a[::-1,:]"
   ]
  },
  {
   "cell_type": "code",
   "execution_count": 59,
   "id": "95724e0f-2495-4c3e-8d37-711db3d81756",
   "metadata": {},
   "outputs": [
    {
     "data": {
      "text/plain": [
       "array([[ 1,  2,  3,  4,  5],\n",
       "       [ 6,  7,  8,  9, 10],\n",
       "       [11, 12, 13, 14, 15],\n",
       "       [16, 17, 18, 19, 20],\n",
       "       [21, 22, 23, 24, 25],\n",
       "       [ 1,  2,  3,  4,  5]])"
      ]
     },
     "execution_count": 59,
     "metadata": {},
     "output_type": "execute_result"
    }
   ],
   "source": [
    "a[np.r_[:len(a),0]]"
   ]
  },
  {
   "cell_type": "code",
   "execution_count": 60,
   "id": "3d705c03-43a4-4aef-ae23-db94da522290",
   "metadata": {},
   "outputs": [
    {
     "data": {
      "text/plain": [
       "array([[ 1,  6, 11, 16, 21],\n",
       "       [ 2,  7, 12, 17, 22],\n",
       "       [ 3,  8, 13, 18, 23],\n",
       "       [ 4,  9, 14, 19, 24],\n",
       "       [ 5, 10, 15, 20, 25]])"
      ]
     },
     "execution_count": 60,
     "metadata": {},
     "output_type": "execute_result"
    }
   ],
   "source": [
    "a.transpose()"
   ]
  },
  {
   "cell_type": "code",
   "execution_count": 61,
   "id": "7d9073c7-68e2-4a14-a117-5ac292050566",
   "metadata": {},
   "outputs": [
    {
     "data": {
      "text/plain": [
       "array([[ 1,  6, 11, 16, 21],\n",
       "       [ 2,  7, 12, 17, 22],\n",
       "       [ 3,  8, 13, 18, 23],\n",
       "       [ 4,  9, 14, 19, 24],\n",
       "       [ 5, 10, 15, 20, 25]])"
      ]
     },
     "execution_count": 61,
     "metadata": {},
     "output_type": "execute_result"
    }
   ],
   "source": [
    "a.conj().transpose()"
   ]
  },
  {
   "cell_type": "code",
   "execution_count": 62,
   "id": "eb88c3d5-a9d6-4999-ae8b-3eecec95a7eb",
   "metadata": {},
   "outputs": [
    {
     "data": {
      "text/plain": [
       "array([[ 51,  22,   2,  56,  67],\n",
       "       [131,  67,  17, 131, 152],\n",
       "       [211, 112,  32, 206, 237],\n",
       "       [291, 157,  47, 281, 322],\n",
       "       [371, 202,  62, 356, 407]])"
      ]
     },
     "execution_count": 62,
     "metadata": {},
     "output_type": "execute_result"
    }
   ],
   "source": [
    "a @ b"
   ]
  },
  {
   "cell_type": "code",
   "execution_count": 63,
   "id": "93e302e5-fe9a-4dd2-a477-ec2506158a8d",
   "metadata": {},
   "outputs": [
    {
     "data": {
      "text/plain": [
       "array([[   2,   -2,    0,   12,   25],\n",
       "       [  24,   42,  -16,    9,  -40],\n",
       "       [   0,   84,  104,  -42,   30],\n",
       "       [ 144,  -85,   54,  190,  120],\n",
       "       [  21,   44, -138,   96,  200]])"
      ]
     },
     "execution_count": 63,
     "metadata": {},
     "output_type": "execute_result"
    }
   ],
   "source": [
    "a * b"
   ]
  },
  {
   "cell_type": "code",
   "execution_count": 68,
   "id": "4a8f9d3f-c0f5-40f4-9154-3368164f29c1",
   "metadata": {},
   "outputs": [
    {
     "data": {
      "text/plain": [
       "array([[ 0.5       , -2.        ,  3.        ,  1.33333333,  1.        ],\n",
       "       [ 1.5       ,  1.16666667, -4.        ,  9.        , -2.5       ],\n",
       "       [ 5.5       ,  1.71428571,  1.625     , -4.66666667,  7.5       ],\n",
       "       [ 1.77777778, -3.4       ,  6.        ,  1.9       ,  3.33333333],\n",
       "       [21.        , 11.        , -3.83333333,  6.        ,  3.125     ]])"
      ]
     },
     "execution_count": 68,
     "metadata": {},
     "output_type": "execute_result"
    }
   ],
   "source": [
    "a/b"
   ]
  },
  {
   "cell_type": "code",
   "execution_count": 69,
   "id": "5f6ddcd4-a8ea-4548-bc32-162f94d7d683",
   "metadata": {},
   "outputs": [
    {
     "data": {
      "text/plain": [
       "array([[    1,     8,    27,    64,   125],\n",
       "       [  216,   343,   512,   729,  1000],\n",
       "       [ 1331,  1728,  2197,  2744,  3375],\n",
       "       [ 4096,  4913,  5832,  6859,  8000],\n",
       "       [ 9261, 10648, 12167, 13824, 15625]])"
      ]
     },
     "execution_count": 69,
     "metadata": {},
     "output_type": "execute_result"
    }
   ],
   "source": [
    "a**3"
   ]
  },
  {
   "cell_type": "code",
   "execution_count": 70,
   "id": "c196bd13-eaff-48bb-bec3-f0c391e2db8a",
   "metadata": {},
   "outputs": [
    {
     "data": {
      "text/plain": [
       "array([[ True,  True,  True,  True,  True],\n",
       "       [ True,  True,  True,  True,  True],\n",
       "       [ True,  True,  True,  True,  True],\n",
       "       [ True,  True,  True,  True,  True],\n",
       "       [ True,  True,  True,  True,  True]])"
      ]
     },
     "execution_count": 70,
     "metadata": {},
     "output_type": "execute_result"
    }
   ],
   "source": [
    "(a > 0.5)"
   ]
  },
  {
   "cell_type": "code",
   "execution_count": 71,
   "id": "9808bb09-7bb2-4569-893d-7c199c67b0a6",
   "metadata": {},
   "outputs": [
    {
     "data": {
      "text/plain": [
       "(array([0, 0, 0, 0, 0, 1, 1, 1, 1, 1, 2, 2, 2, 2, 2, 3, 3, 3, 3, 3, 4, 4,\n",
       "        4, 4, 4]),\n",
       " array([0, 1, 2, 3, 4, 0, 1, 2, 3, 4, 0, 1, 2, 3, 4, 0, 1, 2, 3, 4, 0, 1,\n",
       "        2, 3, 4]))"
      ]
     },
     "execution_count": 71,
     "metadata": {},
     "output_type": "execute_result"
    }
   ],
   "source": [
    "np.nonzero(a > 0.5)"
   ]
  },
  {
   "cell_type": "code",
   "execution_count": 84,
   "id": "3befe8d1-fa15-46a8-98fd-30cc5d939289",
   "metadata": {},
   "outputs": [
    {
     "data": {
      "text/plain": [
       "array([[ 4,  5],\n",
       "       [ 9, 10],\n",
       "       [14, 15],\n",
       "       [19, 20],\n",
       "       [24, 25]])"
      ]
     },
     "execution_count": 84,
     "metadata": {},
     "output_type": "execute_result"
    }
   ],
   "source": [
    "a[:,np.nonzero(v > 0.5)[0]]"
   ]
  },
  {
   "cell_type": "code",
   "execution_count": 85,
   "id": "88b5f749-0727-4466-be68-413ac1c83416",
   "metadata": {},
   "outputs": [
    {
     "data": {
      "text/plain": [
       "array([[ 4,  5],\n",
       "       [ 9, 10],\n",
       "       [14, 15],\n",
       "       [19, 20],\n",
       "       [24, 25]])"
      ]
     },
     "execution_count": 85,
     "metadata": {},
     "output_type": "execute_result"
    }
   ],
   "source": [
    "a[:, v.T > 0.5]"
   ]
  },
  {
   "cell_type": "code",
   "execution_count": 94,
   "id": "5f769b23-d075-438c-8e3d-ddba5c31ed84",
   "metadata": {},
   "outputs": [
    {
     "data": {
      "text/plain": [
       "array([[ 1,  2,  3,  4,  5],\n",
       "       [ 6,  7,  8,  9, 10],\n",
       "       [11, 12, 13, 14, 15],\n",
       "       [16, 17, 18, 19, 20],\n",
       "       [21, 22, 23, 24, 25]])"
      ]
     },
     "execution_count": 94,
     "metadata": {},
     "output_type": "execute_result"
    }
   ],
   "source": [
    "a[a < 0.5]=0\n",
    "a"
   ]
  },
  {
   "cell_type": "code",
   "execution_count": 95,
   "id": "1a4c44b4-7f8c-4de1-857e-7ee5bef32f10",
   "metadata": {},
   "outputs": [
    {
     "data": {
      "text/plain": [
       "array([[ 1,  2,  3,  4,  5],\n",
       "       [ 6,  7,  8,  9, 10],\n",
       "       [11, 12, 13, 14, 15],\n",
       "       [16, 17, 18, 19, 20],\n",
       "       [21, 22, 23, 24, 25]])"
      ]
     },
     "execution_count": 95,
     "metadata": {},
     "output_type": "execute_result"
    }
   ],
   "source": [
    "a * (a > 0.5)"
   ]
  },
  {
   "cell_type": "code",
   "execution_count": 96,
   "id": "6d501105-cd56-4035-a771-20695e7da404",
   "metadata": {},
   "outputs": [
    {
     "data": {
      "text/plain": [
       "array([[3, 3, 3, 3, 3],\n",
       "       [3, 3, 3, 3, 3],\n",
       "       [3, 3, 3, 3, 3],\n",
       "       [3, 3, 3, 3, 3],\n",
       "       [3, 3, 3, 3, 3]])"
      ]
     },
     "execution_count": 96,
     "metadata": {},
     "output_type": "execute_result"
    }
   ],
   "source": [
    "a[:] = 3\n",
    "a"
   ]
  },
  {
   "cell_type": "code",
   "execution_count": 97,
   "id": "494eed3e-9f75-46b4-8638-6d7aee482f6e",
   "metadata": {},
   "outputs": [
    {
     "data": {
      "text/plain": [
       "array([[ 4, -2,  7,  0,  3],\n",
       "       [ 1,  6, -5,  8,  2],\n",
       "       [ 9,  0,  4, -1,  5],\n",
       "       [-3,  2,  6,  7, -4],\n",
       "       [ 8, -6,  1,  3,  9]])"
      ]
     },
     "execution_count": 97,
     "metadata": {},
     "output_type": "execute_result"
    }
   ],
   "source": [
    "y = x.copy()\n",
    "y"
   ]
  },
  {
   "cell_type": "code",
   "execution_count": 98,
   "id": "40278749-6731-4074-a553-838898f847f1",
   "metadata": {},
   "outputs": [
    {
     "data": {
      "text/plain": [
       "array([ 1,  6, -5,  8,  2])"
      ]
     },
     "execution_count": 98,
     "metadata": {},
     "output_type": "execute_result"
    }
   ],
   "source": [
    "y = x[1, :].copy()\n",
    "y"
   ]
  },
  {
   "cell_type": "code",
   "execution_count": 99,
   "id": "926862d9-3abb-4d80-b49a-6b6aa8d04f4b",
   "metadata": {},
   "outputs": [
    {
     "data": {
      "text/plain": [
       "array([ 4, -2,  7,  0,  3,  1,  6, -5,  8,  2,  9,  0,  4, -1,  5, -3,  2,\n",
       "        6,  7, -4,  8, -6,  1,  3,  9])"
      ]
     },
     "execution_count": 99,
     "metadata": {},
     "output_type": "execute_result"
    }
   ],
   "source": [
    "y = x.flatten()\n",
    "y"
   ]
  },
  {
   "cell_type": "code",
   "execution_count": 100,
   "id": "00e7d7b0-582d-4dec-9262-60042bbfebf8",
   "metadata": {},
   "outputs": [
    {
     "data": {
      "text/plain": [
       "array([ 1.,  2.,  3.,  4.,  5.,  6.,  7.,  8.,  9., 10.])"
      ]
     },
     "execution_count": 100,
     "metadata": {},
     "output_type": "execute_result"
    }
   ],
   "source": [
    "np.arange(1., 11.)"
   ]
  },
  {
   "cell_type": "code",
   "execution_count": 101,
   "id": "8c1987e4-d8c0-41a0-9ca1-4b07a8ad6826",
   "metadata": {},
   "outputs": [
    {
     "data": {
      "text/plain": [
       "array([0., 1., 2., 3., 4., 5., 6., 7., 8., 9.])"
      ]
     },
     "execution_count": 101,
     "metadata": {},
     "output_type": "execute_result"
    }
   ],
   "source": [
    "np.arange(10.)"
   ]
  },
  {
   "cell_type": "code",
   "execution_count": 102,
   "id": "1aea7f01-6aa9-42e2-b05a-7abc1f18e40e",
   "metadata": {},
   "outputs": [
    {
     "data": {
      "text/plain": [
       "array([[ 1.],\n",
       "       [ 2.],\n",
       "       [ 3.],\n",
       "       [ 4.],\n",
       "       [ 5.],\n",
       "       [ 6.],\n",
       "       [ 7.],\n",
       "       [ 8.],\n",
       "       [ 9.],\n",
       "       [10.]])"
      ]
     },
     "execution_count": 102,
     "metadata": {},
     "output_type": "execute_result"
    }
   ],
   "source": [
    "np.arange(1.,11.)[:, np.newaxis]"
   ]
  },
  {
   "cell_type": "code",
   "execution_count": 103,
   "id": "5747ac13-dd9c-42a2-be31-192b3648a16b",
   "metadata": {},
   "outputs": [
    {
     "data": {
      "text/plain": [
       "array([[0., 0., 0., 0.],\n",
       "       [0., 0., 0., 0.],\n",
       "       [0., 0., 0., 0.]])"
      ]
     },
     "execution_count": 103,
     "metadata": {},
     "output_type": "execute_result"
    }
   ],
   "source": [
    "np.zeros((3, 4))"
   ]
  },
  {
   "cell_type": "code",
   "execution_count": 104,
   "id": "96396aec-2c9b-43fd-b706-12a1916cfb77",
   "metadata": {},
   "outputs": [
    {
     "data": {
      "text/plain": [
       "array([[[0., 0., 0., 0., 0.],\n",
       "        [0., 0., 0., 0., 0.],\n",
       "        [0., 0., 0., 0., 0.],\n",
       "        [0., 0., 0., 0., 0.]],\n",
       "\n",
       "       [[0., 0., 0., 0., 0.],\n",
       "        [0., 0., 0., 0., 0.],\n",
       "        [0., 0., 0., 0., 0.],\n",
       "        [0., 0., 0., 0., 0.]],\n",
       "\n",
       "       [[0., 0., 0., 0., 0.],\n",
       "        [0., 0., 0., 0., 0.],\n",
       "        [0., 0., 0., 0., 0.],\n",
       "        [0., 0., 0., 0., 0.]]])"
      ]
     },
     "execution_count": 104,
     "metadata": {},
     "output_type": "execute_result"
    }
   ],
   "source": [
    "np.zeros((3, 4, 5))"
   ]
  },
  {
   "cell_type": "code",
   "execution_count": 105,
   "id": "b4ce4819-ed78-4bd5-bbae-446a64b813bb",
   "metadata": {},
   "outputs": [
    {
     "data": {
      "text/plain": [
       "array([[1., 1., 1., 1.],\n",
       "       [1., 1., 1., 1.],\n",
       "       [1., 1., 1., 1.]])"
      ]
     },
     "execution_count": 105,
     "metadata": {},
     "output_type": "execute_result"
    }
   ],
   "source": [
    "np.ones((3, 4))"
   ]
  },
  {
   "cell_type": "code",
   "execution_count": 106,
   "id": "f6219acb-c85d-4419-b3e3-66205df3cfb2",
   "metadata": {},
   "outputs": [
    {
     "data": {
      "text/plain": [
       "array([[1., 0., 0.],\n",
       "       [0., 1., 0.],\n",
       "       [0., 0., 1.]])"
      ]
     },
     "execution_count": 106,
     "metadata": {},
     "output_type": "execute_result"
    }
   ],
   "source": [
    "np.eye(3)"
   ]
  },
  {
   "cell_type": "code",
   "execution_count": 107,
   "id": "4dc9ccff-5fc7-40c3-a813-f8afd98d74c2",
   "metadata": {},
   "outputs": [
    {
     "data": {
      "text/plain": [
       "array([3, 3, 3, 3, 3])"
      ]
     },
     "execution_count": 107,
     "metadata": {},
     "output_type": "execute_result"
    }
   ],
   "source": [
    "np.diag(a)"
   ]
  },
  {
   "cell_type": "code",
   "execution_count": 108,
   "id": "7ebd2e96-1957-40a9-9acb-e9a2c89e4f8e",
   "metadata": {},
   "outputs": [
    {
     "data": {
      "text/plain": [
       "array([[0.1, 0. , 0. , 0. , 0. ],\n",
       "       [0. , 0.2, 0. , 0. , 0. ],\n",
       "       [0. , 0. , 0.4, 0. , 0. ],\n",
       "       [0. , 0. , 0. , 0.6, 0. ],\n",
       "       [0. , 0. , 0. , 0. , 0.8]])"
      ]
     },
     "execution_count": 108,
     "metadata": {},
     "output_type": "execute_result"
    }
   ],
   "source": [
    "np.diag(v, 0)"
   ]
  },
  {
   "cell_type": "code",
   "execution_count": 109,
   "id": "d3e69960-152f-4460-9911-29abeaf3d176",
   "metadata": {},
   "outputs": [
    {
     "data": {
      "text/plain": [
       "array([[0.77395605, 0.43887844, 0.85859792, 0.69736803],\n",
       "       [0.09417735, 0.97562235, 0.7611397 , 0.78606431],\n",
       "       [0.12811363, 0.45038594, 0.37079802, 0.92676499]])"
      ]
     },
     "execution_count": 109,
     "metadata": {},
     "output_type": "execute_result"
    }
   ],
   "source": [
    "from numpy.random import default_rng\n",
    "rng = default_rng(42)\n",
    "rng.random((3, 4))"
   ]
  },
  {
   "cell_type": "code",
   "execution_count": 110,
   "id": "b73ae37a-ca1a-426d-a121-228d0d78ea70",
   "metadata": {},
   "outputs": [
    {
     "data": {
      "text/plain": [
       "array([1.        , 1.66666667, 2.33333333, 3.        ])"
      ]
     },
     "execution_count": 110,
     "metadata": {},
     "output_type": "execute_result"
    }
   ],
   "source": [
    "np.linspace(1,3,4)"
   ]
  },
  {
   "cell_type": "code",
   "execution_count": 111,
   "id": "f15b3d9c-ad57-4e87-9bcb-f06d0b45999b",
   "metadata": {},
   "outputs": [
    {
     "data": {
      "text/plain": [
       "array([[[0., 0., 0., 0., 0., 0.],\n",
       "        [1., 1., 1., 1., 1., 1.],\n",
       "        [2., 2., 2., 2., 2., 2.],\n",
       "        [3., 3., 3., 3., 3., 3.],\n",
       "        [4., 4., 4., 4., 4., 4.],\n",
       "        [5., 5., 5., 5., 5., 5.],\n",
       "        [6., 6., 6., 6., 6., 6.],\n",
       "        [7., 7., 7., 7., 7., 7.],\n",
       "        [8., 8., 8., 8., 8., 8.]],\n",
       "\n",
       "       [[0., 1., 2., 3., 4., 5.],\n",
       "        [0., 1., 2., 3., 4., 5.],\n",
       "        [0., 1., 2., 3., 4., 5.],\n",
       "        [0., 1., 2., 3., 4., 5.],\n",
       "        [0., 1., 2., 3., 4., 5.],\n",
       "        [0., 1., 2., 3., 4., 5.],\n",
       "        [0., 1., 2., 3., 4., 5.],\n",
       "        [0., 1., 2., 3., 4., 5.],\n",
       "        [0., 1., 2., 3., 4., 5.]]])"
      ]
     },
     "execution_count": 111,
     "metadata": {},
     "output_type": "execute_result"
    }
   ],
   "source": [
    "np.mgrid[0:9.,0:6.]"
   ]
  },
  {
   "cell_type": "code",
   "execution_count": 114,
   "id": "2955e7b4-9b64-4a8f-a957-531e93e25263",
   "metadata": {},
   "outputs": [
    {
     "data": {
      "text/plain": [
       "(array([[0.],\n",
       "        [1.],\n",
       "        [2.],\n",
       "        [3.],\n",
       "        [4.],\n",
       "        [5.],\n",
       "        [6.],\n",
       "        [7.],\n",
       "        [8.]]),\n",
       " array([[0., 1., 2., 3., 4., 5.]]))"
      ]
     },
     "execution_count": 114,
     "metadata": {},
     "output_type": "execute_result"
    }
   ],
   "source": [
    "np.ix_(np.r_[0:9.],np.r_[0:6.])"
   ]
  },
  {
   "cell_type": "code",
   "execution_count": 115,
   "id": "f3b5a36d-8edd-4f32-948c-971c751806e4",
   "metadata": {},
   "outputs": [
    {
     "data": {
      "text/plain": [
       "(array([[1, 2, 4],\n",
       "        [1, 2, 4],\n",
       "        [1, 2, 4]]),\n",
       " array([[2, 2, 2],\n",
       "        [4, 4, 4],\n",
       "        [5, 5, 5]]))"
      ]
     },
     "execution_count": 115,
     "metadata": {},
     "output_type": "execute_result"
    }
   ],
   "source": [
    "np.meshgrid([1,2,4],[2,4,5])"
   ]
  },
  {
   "cell_type": "code",
   "execution_count": 118,
   "id": "5f24cacd-9778-4ec8-ba8e-e9cdd9a68b94",
   "metadata": {},
   "outputs": [
    {
     "data": {
      "text/plain": [
       "array([[ 1,  2,  3,  4,  5,  1,  2,  3,  4,  5],\n",
       "       [ 6,  7,  8,  9, 10,  6,  7,  8,  9, 10],\n",
       "       [11, 12, 13, 14, 15, 11, 12, 13, 14, 15],\n",
       "       [16, 17, 18, 19, 20, 16, 17, 18, 19, 20],\n",
       "       [21, 22, 23, 24, 25, 21, 22, 23, 24, 25],\n",
       "       [ 1,  2,  3,  4,  5,  1,  2,  3,  4,  5],\n",
       "       [ 6,  7,  8,  9, 10,  6,  7,  8,  9, 10],\n",
       "       [11, 12, 13, 14, 15, 11, 12, 13, 14, 15],\n",
       "       [16, 17, 18, 19, 20, 16, 17, 18, 19, 20],\n",
       "       [21, 22, 23, 24, 25, 21, 22, 23, 24, 25],\n",
       "       [ 1,  2,  3,  4,  5,  1,  2,  3,  4,  5],\n",
       "       [ 6,  7,  8,  9, 10,  6,  7,  8,  9, 10],\n",
       "       [11, 12, 13, 14, 15, 11, 12, 13, 14, 15],\n",
       "       [16, 17, 18, 19, 20, 16, 17, 18, 19, 20],\n",
       "       [21, 22, 23, 24, 25, 21, 22, 23, 24, 25]])"
      ]
     },
     "execution_count": 118,
     "metadata": {},
     "output_type": "execute_result"
    }
   ],
   "source": [
    "np.tile(a, (m, n))"
   ]
  },
  {
   "cell_type": "code",
   "execution_count": 119,
   "id": "e014cbc7-d919-4733-975e-e81e4699f20b",
   "metadata": {},
   "outputs": [
    {
     "data": {
      "text/plain": [
       "array([[ 1,  2,  3,  4,  5,  2, -1,  1,  3,  5],\n",
       "       [ 6,  7,  8,  9, 10,  4,  6, -2,  1, -4],\n",
       "       [11, 12, 13, 14, 15,  2,  7,  8, -3,  2],\n",
       "       [16, 17, 18, 19, 20,  9, -5,  3, 10,  6],\n",
       "       [21, 22, 23, 24, 25,  1,  2, -6,  4,  8]])"
      ]
     },
     "execution_count": 119,
     "metadata": {},
     "output_type": "execute_result"
    }
   ],
   "source": [
    "np.concatenate((a,b),1)"
   ]
  },
  {
   "cell_type": "code",
   "execution_count": 120,
   "id": "3d1bb241-b2f6-437f-b3cd-858f7328f2b0",
   "metadata": {},
   "outputs": [
    {
     "data": {
      "text/plain": [
       "array([[ 1,  2,  3,  4,  5],\n",
       "       [ 6,  7,  8,  9, 10],\n",
       "       [11, 12, 13, 14, 15],\n",
       "       [16, 17, 18, 19, 20],\n",
       "       [21, 22, 23, 24, 25],\n",
       "       [ 2, -1,  1,  3,  5],\n",
       "       [ 4,  6, -2,  1, -4],\n",
       "       [ 2,  7,  8, -3,  2],\n",
       "       [ 9, -5,  3, 10,  6],\n",
       "       [ 1,  2, -6,  4,  8]])"
      ]
     },
     "execution_count": 120,
     "metadata": {},
     "output_type": "execute_result"
    }
   ],
   "source": [
    "np.concatenate((a,b))"
   ]
  },
  {
   "cell_type": "code",
   "execution_count": 121,
   "id": "02df08ae-a73d-45fc-b2f8-1e99625bbf5f",
   "metadata": {},
   "outputs": [
    {
     "data": {
      "text/plain": [
       "np.int64(25)"
      ]
     },
     "execution_count": 121,
     "metadata": {},
     "output_type": "execute_result"
    }
   ],
   "source": [
    "a.max()"
   ]
  },
  {
   "cell_type": "code",
   "execution_count": 122,
   "id": "fdbd87eb-2740-4b94-ba3e-a1a8923e17a1",
   "metadata": {},
   "outputs": [
    {
     "data": {
      "text/plain": [
       "array([21, 22, 23, 24, 25])"
      ]
     },
     "execution_count": 122,
     "metadata": {},
     "output_type": "execute_result"
    }
   ],
   "source": [
    "a.max(0)"
   ]
  },
  {
   "cell_type": "code",
   "execution_count": 123,
   "id": "0bf657ed-8a56-4685-b05e-dbcca43aff1c",
   "metadata": {},
   "outputs": [
    {
     "data": {
      "text/plain": [
       "array([ 5, 10, 15, 20, 25])"
      ]
     },
     "execution_count": 123,
     "metadata": {},
     "output_type": "execute_result"
    }
   ],
   "source": [
    "a.max(1)"
   ]
  },
  {
   "cell_type": "code",
   "execution_count": 124,
   "id": "94d81e93-3b4e-4267-b196-4fc2656b6c18",
   "metadata": {},
   "outputs": [
    {
     "data": {
      "text/plain": [
       "array([[ 2,  2,  3,  4,  5],\n",
       "       [ 6,  7,  8,  9, 10],\n",
       "       [11, 12, 13, 14, 15],\n",
       "       [16, 17, 18, 19, 20],\n",
       "       [21, 22, 23, 24, 25]])"
      ]
     },
     "execution_count": 124,
     "metadata": {},
     "output_type": "execute_result"
    }
   ],
   "source": [
    "np.maximum(a, b)"
   ]
  },
  {
   "cell_type": "code",
   "execution_count": 125,
   "id": "47ae4674-1d4b-491a-972f-9ee22f448794",
   "metadata": {},
   "outputs": [
    {
     "data": {
      "text/plain": [
       "np.float64(1.1)"
      ]
     },
     "execution_count": 125,
     "metadata": {},
     "output_type": "execute_result"
    }
   ],
   "source": [
    "np.sqrt(v @ v)"
   ]
  },
  {
   "cell_type": "code",
   "execution_count": 127,
   "id": "f5f561e1-8b96-4c1e-b177-8c4791bb5d43",
   "metadata": {},
   "outputs": [
    {
     "data": {
      "text/plain": [
       "array([[ 0,  2,  1,  0,  5],\n",
       "       [ 4,  6,  8,  1,  8],\n",
       "       [ 2,  4,  8, 12,  2],\n",
       "       [ 0, 17,  2,  2,  4],\n",
       "       [ 1,  2, 18,  0,  8]])"
      ]
     },
     "execution_count": 127,
     "metadata": {},
     "output_type": "execute_result"
    }
   ],
   "source": [
    "a & b"
   ]
  },
  {
   "cell_type": "code",
   "execution_count": 128,
   "id": "e10f4593-48fa-4395-b06d-e01350635739",
   "metadata": {},
   "outputs": [
    {
     "data": {
      "text/plain": [
       "array([[ 3, -1,  3,  7,  5],\n",
       "       [ 6,  7, -2,  9, -2],\n",
       "       [11, 15, 13, -1, 15],\n",
       "       [25, -5, 19, 27, 22],\n",
       "       [21, 22, -1, 28, 25]])"
      ]
     },
     "execution_count": 128,
     "metadata": {},
     "output_type": "execute_result"
    }
   ],
   "source": [
    "a | b"
   ]
  },
  {
   "cell_type": "code",
   "execution_count": 131,
   "id": "3a99f2f7-30f7-4b94-baaf-1b824755b11d",
   "metadata": {},
   "outputs": [
    {
     "data": {
      "text/plain": [
       "array([[ 9.88788504e+14, -1.27093574e+15,  3.44610070e+15,\n",
       "        -7.03454818e+15,  3.87059472e+15],\n",
       "       [ 5.14308655e+15, -9.88505579e+15,  2.90320598e+16,\n",
       "        -4.89812984e+16,  2.46912079e+16],\n",
       "       [-8.80212389e+15,  1.58160893e+16, -4.98904081e+16,\n",
       "         8.75410440e+16, -4.46646013e+16],\n",
       "       [-1.78016589e+15,  3.10673182e+15, -1.09976595e+15,\n",
       "         0.00000000e+00, -2.26799981e+14],\n",
       "       [ 4.45041473e+15, -7.76682955e+15,  1.85120136e+16,\n",
       "        -3.15251974e+16,  1.63295986e+16]])"
      ]
     },
     "execution_count": 131,
     "metadata": {},
     "output_type": "execute_result"
    }
   ],
   "source": [
    "linalg.inv(a)"
   ]
  },
  {
   "cell_type": "code",
   "execution_count": 132,
   "id": "15611f70-f9f8-445d-b1d2-8f0749113183",
   "metadata": {},
   "outputs": [
    {
     "data": {
      "text/plain": [
       "array([[-1.52000000e-01, -9.60000000e-02, -4.00000000e-02,\n",
       "         1.60000000e-02,  7.20000000e-02],\n",
       "       [-8.00000000e-02, -5.00000000e-02, -2.00000000e-02,\n",
       "         1.00000000e-02,  4.00000000e-02],\n",
       "       [-8.00000000e-03, -4.00000000e-03, -5.56659644e-17,\n",
       "         4.00000000e-03,  8.00000000e-03],\n",
       "       [ 6.40000000e-02,  4.20000000e-02,  2.00000000e-02,\n",
       "        -2.00000000e-03, -2.40000000e-02],\n",
       "       [ 1.36000000e-01,  8.80000000e-02,  4.00000000e-02,\n",
       "        -8.00000000e-03, -5.60000000e-02]])"
      ]
     },
     "execution_count": 132,
     "metadata": {},
     "output_type": "execute_result"
    }
   ],
   "source": [
    "linalg.pinv(a)"
   ]
  },
  {
   "cell_type": "code",
   "execution_count": 133,
   "id": "8f631ddd-59c9-4153-addd-f10b02b383eb",
   "metadata": {},
   "outputs": [
    {
     "data": {
      "text/plain": [
       "np.int64(2)"
      ]
     },
     "execution_count": 133,
     "metadata": {},
     "output_type": "execute_result"
    }
   ],
   "source": [
    "np.linalg.matrix_rank(a)"
   ]
  },
  {
   "cell_type": "code",
   "execution_count": 142,
   "id": "191a9334-8858-4fa7-9f51-75c5e1d33a0c",
   "metadata": {},
   "outputs": [
    {
     "name": "stdout",
     "output_type": "stream",
     "text": [
      "[[-0.09359323 -0.76892152  0.6227015   0.10627514 -0.0307967 ]\n",
      " [-0.24363203 -0.49055421 -0.61581665  0.00856407  0.56630072]\n",
      " [-0.39367083 -0.2121869  -0.39176853  0.18697875 -0.78202069]\n",
      " [-0.54370962  0.06618041  0.14018102 -0.82475027 -0.01167397]\n",
      " [-0.69374842  0.34454772  0.24470267  0.52293231  0.25819064]] [7.42540539e+01 3.36681954e+00 2.91964903e-15 5.76530633e-16\n",
      " 8.37261245e-17] [[-0.39262281 -0.41913118 -0.44563955 -0.47214793 -0.4986563 ]\n",
      " [ 0.667718    0.35260325  0.0374885  -0.27762625 -0.592741  ]\n",
      " [ 0.49049199 -0.33928644 -0.67863404  0.41315946  0.11426904]\n",
      " [-0.36621757  0.34035142 -0.11468843  0.67319286 -0.53263828]\n",
      " [ 0.15906697 -0.68486905  0.57122885  0.27588156 -0.32130833]]\n"
     ]
    }
   ],
   "source": [
    "U, S, Vh = linalg.svd(a); V = Vh.T\n",
    "print(U, S, Vh)"
   ]
  },
  {
   "cell_type": "code",
   "execution_count": 143,
   "id": "72e59676-61cb-49ee-894c-4a0f6082c047",
   "metadata": {},
   "outputs": [
    {
     "name": "stdout",
     "output_type": "stream",
     "text": [
      "[ 6.86420807e+01+0.j -3.64208074e+00+0.j -7.20005968e-16+0.j\n",
      " -2.30386567e-15+0.j  1.92781376e-16+0.j] [[-0.10797496 -0.67495283 -0.00083256 -0.30969357 -0.13709709]\n",
      " [-0.25277499 -0.3603897  -0.4202587   0.76783803  0.12604466]\n",
      " [-0.39757502 -0.04582657  0.82293922 -0.55648658  0.48174126]\n",
      " [-0.54237506  0.26873656 -0.38177209  0.04823335 -0.79322814]\n",
      " [-0.68717509  0.58329969 -0.02007587  0.05010877  0.32253931]]\n"
     ]
    }
   ],
   "source": [
    "D,V = linalg.eig(a)\n",
    "print(D, V)"
   ]
  },
  {
   "cell_type": "code",
   "execution_count": 144,
   "id": "93c701e0-eb03-481d-b14b-d97f39634ef8",
   "metadata": {},
   "outputs": [
    {
     "name": "stdout",
     "output_type": "stream",
     "text": [
      "[-4.79851812e+01+0.j -3.13824094e+00+0.j -4.33685013e-16+0.j\n",
      "  1.22748796e-16+0.j -2.58332354e-16+0.j] [[-0.61426766  0.67034071 -0.1624923   0.32778783 -0.55399477]\n",
      " [ 0.23779462 -0.13891522 -0.23220322 -0.2601021   0.33272424]\n",
      " [ 0.23389451 -0.23936079  0.34460357  0.09133315  0.4643816 ]\n",
      " [ 0.69235254 -0.64351202  0.65737172 -0.71351133  0.28904318]\n",
      " [-0.17908176  0.24483584 -0.60727977  0.55449245 -0.53215425]]\n"
     ]
    }
   ],
   "source": [
    "D,V = linalg.eig(a, b)\n",
    "print(D, V)"
   ]
  },
  {
   "cell_type": "code",
   "execution_count": 148,
   "id": "abcc667d-0385-4d62-a9fe-d36cdc356ca4",
   "metadata": {},
   "outputs": [
    {
     "name": "stdout",
     "output_type": "stream",
     "text": [
      "[ 6.86420807e+01+0.j -3.64208074e+00+0.j  9.11570922e-16+0.j] [[ 0.10797496+0.j -0.67495283+0.j -0.20703177+0.j]\n",
      " [ 0.25277499+0.j -0.3603897 +0.j -0.27745473+0.j]\n",
      " [ 0.39757502+0.j -0.04582657+0.j  0.88515721+0.j]\n",
      " [ 0.54237506+0.j  0.26873656+0.j -0.10982316+0.j]\n",
      " [ 0.68717509+0.j  0.58329969+0.j -0.29084755+0.j]]\n"
     ]
    }
   ],
   "source": [
    "D,V = eigs(a, k=3)\n",
    "print(D, V)"
   ]
  },
  {
   "cell_type": "code",
   "execution_count": 149,
   "id": "abd09420-c76a-4887-8837-5bce6f5e2c2d",
   "metadata": {},
   "outputs": [
    {
     "name": "stdout",
     "output_type": "stream",
     "text": [
      "[[-0.03419928 -0.77384133  0.57288178  0.26761922 -0.0136536 ]\n",
      " [-0.20519567 -0.50783338 -0.46201924 -0.47980472  0.50628613]\n",
      " [-0.37619206 -0.24182542 -0.58621584  0.48348797 -0.47179485]\n",
      " [-0.54718845  0.02418254  0.26696229 -0.59803865 -0.5206543 ]\n",
      " [-0.71818485  0.2901905   0.20839101  0.32673619  0.49981662]] [[-2.92403830e+01 -3.11213433e+01 -3.30023037e+01 -3.48832640e+01\n",
      "  -3.67642243e+01]\n",
      " [ 0.00000000e+00 -1.20912708e+00 -2.41825417e+00 -3.62738125e+00\n",
      "  -4.83650833e+00]\n",
      " [ 0.00000000e+00  0.00000000e+00  1.49036927e-15  6.68353138e-15\n",
      "   8.39640579e-15]\n",
      " [ 0.00000000e+00  0.00000000e+00  0.00000000e+00  1.52677905e-15\n",
      "   1.29373286e-15]\n",
      " [ 0.00000000e+00  0.00000000e+00  0.00000000e+00  0.00000000e+00\n",
      "  -5.87033973e-16]]\n"
     ]
    }
   ],
   "source": [
    "Q,R = linalg.qr(a)\n",
    "print(Q, R)"
   ]
  },
  {
   "cell_type": "code",
   "execution_count": 150,
   "id": "1599ecb7-e68a-41f4-b87a-004d8a85d89c",
   "metadata": {},
   "outputs": [
    {
     "data": {
      "text/plain": [
       "<function scipy.sparse.linalg._isolve.iterative.cg(A, b, x0=None, *, rtol=1e-05, atol=0.0, maxiter=None, M=None, callback=None)>"
      ]
     },
     "execution_count": 150,
     "metadata": {},
     "output_type": "execute_result"
    }
   ],
   "source": [
    "cg"
   ]
  },
  {
   "cell_type": "code",
   "execution_count": 151,
   "id": "f35dec34-ca3e-488b-b6ed-46caf93db664",
   "metadata": {},
   "outputs": [
    {
     "data": {
      "text/plain": [
       "array([[ 15. +0.j        ,  -2.5+3.4409548j ,  -2.5+0.81229924j,\n",
       "         -2.5-0.81229924j,  -2.5-3.4409548j ],\n",
       "       [ 40. +0.j        ,  -2.5+3.4409548j ,  -2.5+0.81229924j,\n",
       "         -2.5-0.81229924j,  -2.5-3.4409548j ],\n",
       "       [ 65. +0.j        ,  -2.5+3.4409548j ,  -2.5+0.81229924j,\n",
       "         -2.5-0.81229924j,  -2.5-3.4409548j ],\n",
       "       [ 90. +0.j        ,  -2.5+3.4409548j ,  -2.5+0.81229924j,\n",
       "         -2.5-0.81229924j,  -2.5-3.4409548j ],\n",
       "       [115. +0.j        ,  -2.5+3.4409548j ,  -2.5+0.81229924j,\n",
       "         -2.5-0.81229924j,  -2.5-3.4409548j ]])"
      ]
     },
     "execution_count": 151,
     "metadata": {},
     "output_type": "execute_result"
    }
   ],
   "source": [
    "np.fft.fft(a)"
   ]
  },
  {
   "cell_type": "code",
   "execution_count": 152,
   "id": "5bef6405-4081-48ee-9c7d-d8da6e09f572",
   "metadata": {},
   "outputs": [
    {
     "data": {
      "text/plain": [
       "array([[ 3. +0.j        , -0.5-0.68819096j, -0.5-0.16245985j,\n",
       "        -0.5+0.16245985j, -0.5+0.68819096j],\n",
       "       [ 8. +0.j        , -0.5-0.68819096j, -0.5-0.16245985j,\n",
       "        -0.5+0.16245985j, -0.5+0.68819096j],\n",
       "       [13. +0.j        , -0.5-0.68819096j, -0.5-0.16245985j,\n",
       "        -0.5+0.16245985j, -0.5+0.68819096j],\n",
       "       [18. +0.j        , -0.5-0.68819096j, -0.5-0.16245985j,\n",
       "        -0.5+0.16245985j, -0.5+0.68819096j],\n",
       "       [23. +0.j        , -0.5-0.68819096j, -0.5-0.16245985j,\n",
       "        -0.5+0.16245985j, -0.5+0.68819096j]])"
      ]
     },
     "execution_count": 152,
     "metadata": {},
     "output_type": "execute_result"
    }
   ],
   "source": [
    "np.fft.ifft(a)"
   ]
  },
  {
   "cell_type": "code",
   "execution_count": 153,
   "id": "cc2b9f91-51d4-4f38-8a80-9c66060af1f2",
   "metadata": {},
   "outputs": [
    {
     "data": {
      "text/plain": [
       "array([[ 1,  2,  3,  4,  5],\n",
       "       [ 6,  7,  8,  9, 10],\n",
       "       [11, 12, 13, 14, 15],\n",
       "       [16, 17, 18, 19, 20],\n",
       "       [21, 22, 23, 24, 25]])"
      ]
     },
     "execution_count": 153,
     "metadata": {},
     "output_type": "execute_result"
    }
   ],
   "source": [
    "np.sort(a)"
   ]
  },
  {
   "cell_type": "code",
   "execution_count": 154,
   "id": "cd25ddc7-07ed-4628-8262-d8d376d526cc",
   "metadata": {},
   "outputs": [
    {
     "data": {
      "text/plain": [
       "array([[ 1,  2,  3,  4,  5],\n",
       "       [ 6,  7,  8,  9, 10],\n",
       "       [11, 12, 13, 14, 15],\n",
       "       [16, 17, 18, 19, 20],\n",
       "       [21, 22, 23, 24, 25]])"
      ]
     },
     "execution_count": 154,
     "metadata": {},
     "output_type": "execute_result"
    }
   ],
   "source": [
    "np.sort(a, axis=1)"
   ]
  },
  {
   "cell_type": "code",
   "execution_count": 157,
   "id": "ceb90d7e-4f13-4c5d-8360-ec274660f18f",
   "metadata": {},
   "outputs": [
    {
     "data": {
      "text/plain": [
       "array([[ 1,  2,  3,  4,  5],\n",
       "       [ 6,  7,  8,  9, 10],\n",
       "       [11, 12, 13, 14, 15],\n",
       "       [16, 17, 18, 19, 20],\n",
       "       [21, 22, 23, 24, 25]])"
      ]
     },
     "execution_count": 157,
     "metadata": {},
     "output_type": "execute_result"
    }
   ],
   "source": [
    "I = np.argsort(a[:, 0]); b = a[I,:]\n",
    "b"
   ]
  },
  {
   "cell_type": "code",
   "execution_count": 160,
   "id": "d344f189-39b8-484d-a8c3-d8a2f7c3861f",
   "metadata": {},
   "outputs": [
    {
     "data": {
      "text/plain": [
       "array([ 1,  2,  3,  4,  5,  6,  7,  8,  9, 10, 11, 12, 13, 14, 15, 16, 17,\n",
       "       18, 19, 20, 21, 22, 23, 24, 25])"
      ]
     },
     "execution_count": 160,
     "metadata": {},
     "output_type": "execute_result"
    }
   ],
   "source": [
    "np.unique(a)"
   ]
  },
  {
   "cell_type": "code",
   "execution_count": 161,
   "id": "44dc68cc-4d09-4cf9-8551-8406f6cc35b5",
   "metadata": {},
   "outputs": [
    {
     "data": {
      "text/plain": [
       "array([[ 1,  2,  3,  4,  5],\n",
       "       [ 6,  7,  8,  9, 10],\n",
       "       [11, 12, 13, 14, 15],\n",
       "       [16, 17, 18, 19, 20],\n",
       "       [21, 22, 23, 24, 25]])"
      ]
     },
     "execution_count": 161,
     "metadata": {},
     "output_type": "execute_result"
    }
   ],
   "source": [
    "a.squeeze()"
   ]
  }
 ],
 "metadata": {
  "kernelspec": {
   "display_name": "Python 3 (ipykernel)",
   "language": "python",
   "name": "python3"
  },
  "language_info": {
   "codemirror_mode": {
    "name": "ipython",
    "version": 3
   },
   "file_extension": ".py",
   "mimetype": "text/x-python",
   "name": "python",
   "nbconvert_exporter": "python",
   "pygments_lexer": "ipython3",
   "version": "3.11.13"
  }
 },
 "nbformat": 4,
 "nbformat_minor": 5
}
